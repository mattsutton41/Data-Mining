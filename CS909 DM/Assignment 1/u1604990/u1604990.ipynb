{
 "cells": [
  {
   "cell_type": "code",
   "execution_count": 82,
   "metadata": {},
   "outputs": [],
   "source": [
    "import numpy as np\n",
    "import matplotlib.pyplot as plt"
   ]
  },
  {
   "cell_type": "code",
   "execution_count": 100,
   "metadata": {},
   "outputs": [],
   "source": [
    "Xtest = np.loadtxt('Xtest.csv')\n",
    "Xtrain = np.loadtxt('Xtrain.csv')\n",
    "Ytrain = np.loadtxt('Ytrain.csv')"
   ]
  },
  {
   "cell_type": "code",
   "execution_count": 55,
   "metadata": {},
   "outputs": [
    {
     "name": "stdout",
     "output_type": "stream",
     "text": [
      "[0.009  0.0091 0.0092 0.0093 0.0094 0.0095 0.0096 0.0097 0.0098 0.0099\n",
      " 0.01   0.0101 0.0102 0.0103 0.0104 0.0105 0.0106 0.0107 0.0108 0.0109]\n"
     ]
    }
   ],
   "source": [
    "### QUESTION 1 ###\n",
    "\n",
    "## Gives the number of rows, equal to the number of images, in each of the test\n",
    "## and training data files. Outputs the first to be reformatted as an image.\n",
    "## Sums instances of positive and negative values in the training dataset.\n",
    "## Gives reasoning for use of AUC_ROC as performance metric.\n",
    "## Outputs AUC-ROC and AUC-PR of a random classifier with equivalent graphs."
   ]
  },
  {
   "cell_type": "code",
   "execution_count": 109,
   "metadata": {},
   "outputs": [
    {
     "name": "stdout",
     "output_type": "stream",
     "text": [
      "There are 5000 values in Xtest\n",
      "There are 3000 values in Xtrain\n",
      "There are 3000 values in Ytrain\n",
      "There are 1179 positive and 1821 negative values in Ytrain\n"
     ]
    },
    {
     "data": {
      "image/png": "[encoded data removed]",
      "text/plain": [
       "<Figure size 432x288 with 1 Axes>"
      ]
     },
     "metadata": {
      "needs_background": "light"
     },
     "output_type": "display_data"
    },
    {
     "name": "stdout",
     "output_type": "stream",
     "text": [
      "A random classifier has an accuracy of 0.5\n"
     ]
    },
    {
     "data": {
      "image/png": "[encoded data removed]",
      "text/plain": [
       "<Figure size 432x288 with 1 Axes>"
      ]
     },
     "metadata": {
      "needs_background": "light"
     },
     "output_type": "display_data"
    },
    {
     "name": "stdout",
     "output_type": "stream",
     "text": [
      "Dummy ROC AUC score is 0.492\n"
     ]
    },
    {
     "data": {
      "image/png": "[encoded data removed]",
      "text/plain": [
       "<Figure size 432x288 with 1 Axes>"
      ]
     },
     "metadata": {
      "needs_background": "light"
     },
     "output_type": "display_data"
    },
    {
     "name": "stdout",
     "output_type": "stream",
     "text": [
      "Dummy PR AUC score is 0.538\n"
     ]
    }
   ],
   "source": [
    "## 1.i/1.ii \n",
    "## Checking the contents of the loaded Test and Train files.\n",
    "print('There are {} values in Xtest'.format(Xtest.shape[0]))\n",
    "print('There are {} values in Xtrain'.format(Xtrain.shape[0]))\n",
    "print('There are {} values in Ytrain'.format(Ytrain.shape[0]))\n",
    "Ytrainpos = np.sum(Ytrain>=0)\n",
    "Ytrainneg = np.sum(Ytrain<0)\n",
    "print('There are {} positive and {} negative values in Ytrain'.format(Ytrainpos, Ytrainneg))\n",
    "\n",
    "## Outputs image on given row, can change value to view different images\n",
    "im1 = np.resize(Xtest[10],(28,28))\n",
    "plt.axis(\"off\")\n",
    "plt.imshow(im1)\n",
    "plt.show()\n",
    "\n",
    "## 1.iii\n",
    "## Due to the imbalance in size of the classes, accuracy is not the greatest performance metric\n",
    "## The skew towards negative values similarly makes AUC_PR a poor performance metric\n",
    "## Since we aren't trying to output probabilities, and we care equally about positive and negative techniques\n",
    "## AUC_ROC is a good performance metric, and the on which will be used to tune parameters\n",
    "\n",
    "## 1.iv\n",
    "## Accuracy measures how many values were correctly labelled. A random classifier that evenly distributes labels across\n",
    "## the two sets would clearly have an expected accuracy of 50%.\n",
    "\n",
    "## Fits a random classifier over the dataset\n",
    "from sklearn.dummy import DummyClassifier as DC\n",
    "dm = DC(strategy = \"uniform\")\n",
    "dm_fit = dm.fit(Xtrain, Ytrain)\n",
    "dm_pred = dm.predict(Xtrain)\n",
    "acc = dm_fit.score(Xtrain, Ytrain)\n",
    "print('A random classifier has an accuracy of {}'.format(np.round(acc,2)))\n",
    "\n",
    "## 1.v\n",
    "## Calculates ROC-AUC of the random classifier\n",
    "from sklearn.metrics import roc_curve\n",
    "from sklearn.metrics import roc_auc_score\n",
    "dm_fpr, dm_tpr, thresholds = roc_curve(Ytrain, dm_pred)\n",
    "dm_roc_auc = roc_auc_score(Ytrain, dm_pred)\n",
    "plt.plot(dm_fpr, dm_tpr)\n",
    "plt.xlabel('False Positives')\n",
    "plt.ylabel('True Positives')\n",
    "plt.show()\n",
    "print('Dummy ROC AUC score is {}'.format(np.round(dm_roc_auc,3)))\n",
    "\n",
    "## Calculates PR-AUC of the random classifier\n",
    "from sklearn.metrics import precision_recall_curve\n",
    "from sklearn.metrics import auc\n",
    "dm_prec, dm_rec, thresholds = precision_recall_curve(Ytrain, dm_pred)\n",
    "dm_pr_auc = auc(dm_rec, dm_prec)\n",
    "plt.plot(dm_rec, dm_prec)\n",
    "plt.xlabel('Recall')\n",
    "plt.ylabel('Precision')\n",
    "plt.show()\n",
    "print('Dummy PR AUC score is {}'.format(np.round(dm_pr_auc,3)))\n",
    "\n",
    "## Cannot calculate ROC-AUC and PR-AUC of the test data as have no true values"
   ]
  },
  {
   "cell_type": "code",
   "execution_count": 5,
   "metadata": {},
   "outputs": [],
   "source": [
    "### QUESTION 2 ###\n",
    "\n",
    "## Cross-Validates KNearestNeighbour over a stratified split of 5 sets, using K = 1.\n",
    "## Gives mean of each performance metric over each split, and then average\n",
    "## Additionally tests over data that is Normalized, and that is scaled\n",
    "## GridSearch for optimal K value for 2.iv is covered in question 3"
   ]
  },
  {
   "cell_type": "code",
   "execution_count": 111,
   "metadata": {},
   "outputs": [
    {
     "name": "stdout",
     "output_type": "stream",
     "text": [
      "Accuracy over 5 folds: [0.77 0.74 0.76 0.73 0.76]; average: 0.75; StdDev: 0.01\n",
      "AUC_ROC score over 5 folds: [0.76 0.73 0.75 0.72 0.75]; average: 0.74; StdDev: 0.01\n",
      "AUC_PR score over 5 folds : [0.76 0.74 0.75 0.73 0.75]; average: 0.75; StdDev: 0.01\n"
     ]
    }
   ],
   "source": [
    "from sklearn.neighbors import KNeighborsClassifier\n",
    "nn = KNeighborsClassifier(n_neighbors=1)\n",
    "\n",
    "from sklearn.model_selection import StratifiedKFold\n",
    "skf = StratifiedKFold(n_splits = 5, shuffle = True)\n",
    "skf_splits = skf.get_n_splits(Xtrain, Ytrain)\n",
    "\n",
    "nn_fit, nn_pred, nn_accuracy, nn_roc_score, nn_pr_score = [],[],[],[],[]\n",
    "i = 0\n",
    "\n",
    "## Tests classifier over each split\n",
    "for train_index, test_index in skf.split(Xtrain, Ytrain):\n",
    "    X_train, X_test = Xtrain[train_index], Xtrain[test_index]\n",
    "    y_train, y_test = Ytrain[train_index], Ytrain[test_index]\n",
    "    nn_fit.append(nn.fit(X_train, y_train))\n",
    "    nn_pred.append(nn.predict(X_test))\n",
    "    nn_accuracy.append(nn_fit[i].score(X_test, y_test))    \n",
    "    nn_roc_score.append(roc_auc_score(y_test, nn_pred[i]))\n",
    "    nn_prec, nn_rec, thresholds = precision_recall_curve(y_test, nn_pred[i])\n",
    "    nn_pr_score.append(auc(nn_rec, nn_prec))\n",
    "    i += 1\n",
    "\n",
    "print('Accuracy over 5 folds: {}; average: {}; StdDev: {}'\n",
    "      .format(np.around(nn_accuracy, 2),np.around(np.mean(nn_accuracy),2), np.around(np.std(nn_accuracy),2)))\n",
    "print('AUC_ROC score over 5 folds: {}; average: {}; StdDev: {}'\n",
    "      .format(np.around(nn_roc_score, 2), np.around(np.mean(nn_roc_score),2), np.around(np.std(nn_roc_score),2)))\n",
    "print('AUC_PR score over 5 folds : {}; average: {}; StdDev: {}'\n",
    "      .format(np.around(nn_pr_score, 2), np.around(np.mean(nn_pr_score),2), np.around(np.std(nn_pr_score),2)))"
   ]
  },
  {
   "cell_type": "code",
   "execution_count": 5,
   "metadata": {},
   "outputs": [
    {
     "name": "stdout",
     "output_type": "stream",
     "text": [
      "Accuracy over 5 folds: [0.77 0.74 0.73 0.75 0.77]; average: 0.75\n",
      "AUC_ROC score over 5 folds: [0.5  0.51 0.49 0.55 0.49]; average: 0.51\n",
      "AUC_PR score over 5 folds : [0.76 0.74 0.72 0.75 0.76]; average 0.75\n"
     ]
    }
   ],
   "source": [
    "## Tests KNearestNeighbour on scaled data set\n",
    "## Since n = 1, our Classifier only relise on the closest data point.\n",
    "## Scaling the data pushes points closer together, thus resulting in worse performance.\n",
    "\n",
    "from sklearn.preprocessing import StandardScaler\n",
    "scaler = StandardScaler().fit_transform(Xtrain)\n",
    "nn_scaler_fit, nn_scaler_pred, nn_scaler_accuracy, nn_scaler_roc_score, nn_scaler_pr_score  = [],[],[],[],[]\n",
    "i = 0\n",
    "\n",
    "for train_index, test_index in skf.split(scaler, Ytrain):\n",
    "    X_train, X_test = scaler[train_index], scaler[test_index]\n",
    "    y_train, y_test = Ytrain[train_index], Ytrain[test_index]\n",
    "    nn_scaler_fit.append(nn.fit(X_train, y_train))\n",
    "    nn_scaler_pred.append(nn.predict(X_test))\n",
    "    nn_scaler_accuracy.append(nn_fit[i].score(X_test, y_test))\n",
    "    nn_scaler_roc_score.append(roc_auc_score(y_test, nn_pred[i]))\n",
    "    nn_scaler_prec, nn_scaler_rec, thresholds = precision_recall_curve(y_test, nn_scaler_pred[i])\n",
    "    nn_scaler_pr_score.append(auc(nn_scaler_rec, nn_scaler_prec))\n",
    "    i += 1\n",
    "\n",
    "print('Accuracy over 5 folds: {}; average: {}'\n",
    "      .format(np.around(nn_scaler_accuracy, 2), np.around(np.mean(nn_scaler_accuracy),2)))\n",
    "print('AUC_ROC score over 5 folds: {}; average: {}'\n",
    "      .format(np.around(nn_scaler_roc_score, 2), np.around(np.mean(nn_scaler_roc_score),2)))\n",
    "print('AUC_PR score over 5 folds : {}; average {}'\n",
    "      .format(np.around(nn_scaler_pr_score, 2), np.around(np.mean(nn_scaler_pr_score),2)))"
   ]
  },
  {
   "cell_type": "code",
   "execution_count": 6,
   "metadata": {},
   "outputs": [
    {
     "name": "stdout",
     "output_type": "stream",
     "text": [
      "Accuracy over 5 folds: [0.77 0.74 0.79 0.74 0.78]; average: 0.77\n",
      "AUC_ROC score over 5 folds: [0.51 0.53 0.54 0.51 0.49]; average: 0.52\n",
      "AUC_PR score over 5 folds : [0.77 0.75 0.79 0.74 0.78]; average 0.77\n"
     ]
    }
   ],
   "source": [
    "## Tests KNearestNeighbour on Normalized data set\n",
    "## Results are similar to having scaled the data due to the lack of discretion in the n = 1 case.\n",
    "\n",
    "from sklearn.preprocessing import Normalizer\n",
    "transform = Normalizer().fit_transform(Xtrain)\n",
    "\n",
    "nn_transform_fit, nn_transform_pred, nn_transform_accuracy, nn_transform_roc_score, nn_transform_pr_score = [],[],[],[],[]\n",
    "i = 0\n",
    "\n",
    "for train_index, test_index in skf.split(transform, Ytrain):\n",
    "    X_train, X_test = transform[train_index], transform[test_index]\n",
    "    y_train, y_test = Ytrain[train_index], Ytrain[test_index]\n",
    "    nn_transform_fit.append(nn.fit(X_train, y_train))\n",
    "    nn_transform_pred.append(nn.predict(X_test))\n",
    "    \n",
    "    nn_transform_accuracy.append(nn_fit[i].score(X_test, y_test))\n",
    "    nn_transform_roc_score.append(roc_auc_score(y_test, nn_pred[i]))\n",
    "    nn_transform_prec, nn_transform_rec, thresholds = precision_recall_curve(y_test, nn_transform_pred[i])\n",
    "    nn_transform_pr_score.append(auc(nn_transform_rec, nn_transform_prec))\n",
    "    i += 1\n",
    "\n",
    "print('Accuracy over 5 folds: {}; average: {}'.format(np.around(nn_transform_accuracy, 2), np.around(np.mean(nn_transform_accuracy),2)))\n",
    "print('AUC_ROC score over 5 folds: {}; average: {}'.format(np.around(nn_transform_roc_score, 2), np.around(np.mean(nn_transform_roc_score),2)))\n",
    "print('AUC_PR score over 5 folds : {}; average {}'.format(np.around(nn_transform_pr_score, 2), np.around(np.mean(nn_transform_pr_score),2)))"
   ]
  },
  {
   "cell_type": "code",
   "execution_count": 9,
   "metadata": {},
   "outputs": [],
   "source": [
    "### QUESTION 3 ###\n",
    "\n",
    "## AUC ROC was used throughout as the performance metric, as decided in Question 1.\n",
    "## Optimal value of KNearestNeighbour as also required in 2.iv is here\n",
    "## Gridparams for final search are left as comment to reduce running time\n",
    "## Current Gridparams are final optimised parameters\n",
    "## Where best data that is Normalized/Scaled is used to improve performance\n",
    "## Each block outputs best params and best AUC-ROC score\n",
    "## Final matrix is best values"
   ]
  },
  {
   "cell_type": "code",
   "execution_count": 64,
   "metadata": {},
   "outputs": [],
   "source": [
    "from sklearn.preprocessing import StandardScaler\n",
    "from sklearn.preprocessing import Normalizer\n",
    "scalerX = StandardScaler().fit_transform(Xtrain)\n",
    "normX = Normalizer().fit_transform(Xtrain)"
   ]
  },
  {
   "cell_type": "code",
   "execution_count": 69,
   "metadata": {},
   "outputs": [
    {
     "name": "stdout",
     "output_type": "stream",
     "text": [
      "{'n_neighbors': 25}\n",
      "0.85\n"
     ]
    }
   ],
   "source": [
    "## Computes optimal value of K for KNeighbours. Also the solution to 2iv.\n",
    "## Tests on scaled data\n",
    "\n",
    "from sklearn.model_selection import GridSearchCV\n",
    "knn = KNeighborsClassifier()\n",
    "#gridparams = {'n_neighbors' : #list(range(1,30))}\n",
    "gridparams = {'n_neighbors' : [25]}\n",
    "knnclf = GridSearchCV(knn, gridparams, cv = 5, scoring = ['accuracy', 'roc_auc', 'average_precision'], refit = 'roc_auc')\n",
    "knnclf.fit(scalerX, Ytrain)\n",
    "knn_best_score = knnclf.best_score_\n",
    "knn_best_value = knnclf.best_params_\n",
    "\n",
    "print(knnclf.best_params_)\n",
    "print(np.around(knnclf.best_score_,2))\n",
    "\n",
    "## Passes on results of best scorer\n",
    "knn_mean_acc = knnclf.cv_results_['mean_test_accuracy'][0]\n",
    "knn_std_acc = knnclf.cv_results_['std_test_accuracy'][0]\n",
    "knn_mean_roc = knnclf.cv_results_['mean_test_roc_auc'][0]\n",
    "knn_std_roc = knnclf.cv_results_['std_test_roc_auc'][0]\n",
    "knn_mean_pr = knnclf.cv_results_['mean_test_average_precision'][0]\n",
    "knn_std_pr = knnclf.cv_results_['std_test_average_precision'][0]\n"
   ]
  },
  {
   "cell_type": "code",
   "execution_count": 71,
   "metadata": {},
   "outputs": [
    {
     "name": "stdout",
     "output_type": "stream",
     "text": [
      "{'alpha': 0.0001, 'max_iter': 10}\n",
      "0.72\n"
     ]
    },
    {
     "name": "stderr",
     "output_type": "stream",
     "text": [
      "C:\\Users\\matty\\Anaconda3\\lib\\site-packages\\sklearn\\linear_model\\stochastic_gradient.py:561: ConvergenceWarning: Maximum number of iteration reached before convergence. Consider increasing max_iter to improve the fit.\n",
      "  ConvergenceWarning)\n"
     ]
    }
   ],
   "source": [
    "## Computes optimal parameters for Perceptron. Alters Max iterations to avoid overfitting\n",
    "## Tests on scaled data\n",
    "\n",
    "from sklearn.linear_model import Perceptron\n",
    "per = Perceptron()\n",
    "#gridparams = {'alpha': np.arange(0.0001, 0.01, 0.001), 'max_iter':np.arange(10,100,10)}\n",
    "gridparams = {'alpha': [0.0001],\n",
    "              'max_iter':[10]}\n",
    "perclf = GridSearchCV(per, gridparams, cv = 5, scoring = ['accuracy', 'roc_auc', 'average_precision'], refit = 'roc_auc', n_jobs = -1)\n",
    "perclf.fit(scalerX, Ytrain)\n",
    "per_best_score = perclf.best_score_\n",
    "per_best_value = perclf.best_params_\n",
    "print(perclf.best_params_)\n",
    "print(np.around(perclf.best_score_, 2))\n",
    "\n",
    "\n",
    "per_mean_acc = perclf.cv_results_['mean_test_accuracy'][0]\n",
    "per_std_acc = perclf.cv_results_['std_test_accuracy'][0]\n",
    "per_mean_roc = perclf.cv_results_['mean_test_roc_auc'][0]\n",
    "per_std_roc = perclf.cv_results_['std_test_roc_auc'][0]\n",
    "per_mean_pr = perclf.cv_results_['mean_test_average_precision'][0]\n",
    "per_std_pr = perclf.cv_results_['std_test_average_precision'][0]"
   ]
  },
  {
   "cell_type": "code",
   "execution_count": 70,
   "metadata": {},
   "outputs": [
    {
     "name": "stdout",
     "output_type": "stream",
     "text": [
      "0.65\n"
     ]
    }
   ],
   "source": [
    "## Naive Bayes takes no hyperparameters, so just cross validates\n",
    "\n",
    "from sklearn.naive_bayes import GaussianNB\n",
    "gnb = GaussianNB()\n",
    "gnbskf = StratifiedKFold(n_splits = 5, shuffle = True)\n",
    "gnbskf_splits = skf.get_n_splits(scalerX, Ytrain)\n",
    "gnb_fit, gnb_pred, gnb_accuracy, gnb_roc_score, gnb_pr_score = [],[],[],[],[]\n",
    "i = 0\n",
    "\n",
    "for train_index, test_index in gnbskf.split(Xtrain, Ytrain):\n",
    "    X_train, X_test = Xtrain[train_index], Xtrain[test_index]\n",
    "    y_train, y_test = Ytrain[train_index], Ytrain[test_index]\n",
    "    gnb_fit.append(gnb.fit(X_train, y_train))\n",
    "    gnb_pred.append(gnb.predict(X_test))\n",
    "    gnb_accuracy.append(gnb_fit[i].score(X_test, y_test))    \n",
    "    gnb_roc_score.append(roc_auc_score(y_test, gnb_pred[i]))\n",
    "    gnb_prec, gnb_rec, thresholds = precision_recall_curve(y_test, gnb_pred[i])\n",
    "    gnb_pr_score.append(auc(gnb_prec, gnb_rec))\n",
    "    i += 1\n",
    "\n",
    "gnb_mean_acc = np.mean(gnb_accuracy)\n",
    "gnb_std_acc = np.std(gnb_accuracy)\n",
    "gnb_mean_roc = np.mean(gnb_roc_score)\n",
    "gnb_std_roc = np.std(gnb_roc_score)\n",
    "gnb_mean_pr = np.mean(gnb_pr_score)\n",
    "gnb_std_pr = np.std(gnb_pr_score)\n",
    "print(np.around(gnb_mean_roc,2))"
   ]
  },
  {
   "cell_type": "code",
   "execution_count": 72,
   "metadata": {},
   "outputs": [
    {
     "name": "stdout",
     "output_type": "stream",
     "text": [
      "{'C': 0.1, 'penalty': 'l1', 'solver': 'liblinear'}\n",
      "0.79\n"
     ]
    }
   ],
   "source": [
    "## Computes optimal LR parameters, multiple searches over different solvers \n",
    "## were run, the given one is the final one. Tests on scaled data.\n",
    "\n",
    "from sklearn.linear_model import LogisticRegression\n",
    "lr = LogisticRegression()\n",
    "#gridparams = {'penalty':['l1', 'l2'], 'C':np.logspace(-3,3,7), 'solver':['liblinear']}\n",
    "gridparams = {'penalty':['l1'], \n",
    "              'C':[0.1], \n",
    "              'solver':['liblinear']}\n",
    "lrclf = GridSearchCV(lr, gridparams, cv = 5, scoring = ['accuracy', 'roc_auc', 'average_precision'], refit = 'roc_auc', n_jobs = -1)\n",
    "lrclf.fit(scalerX, Ytrain)\n",
    "lr_best_score = lrclf.best_score_\n",
    "lr_best_value = lrclf.best_params_\n",
    "print(lrclf.best_params_)\n",
    "print(np.around(lr_best_score,2))\n",
    "\n",
    "lr_mean_acc = lrclf.cv_results_['mean_test_accuracy'][0]\n",
    "lr_std_acc = lrclf.cv_results_['std_test_accuracy'][0]\n",
    "lr_mean_roc = lrclf.cv_results_['mean_test_roc_auc'][0]\n",
    "lr_std_roc = lrclf.cv_results_['std_test_roc_auc'][0]\n",
    "lr_mean_pr = lrclf.cv_results_['mean_test_average_precision'][0]\n",
    "lr_std_pr = lrclf.cv_results_['std_test_average_precision'][0]"
   ]
  },
  {
   "cell_type": "code",
   "execution_count": 73,
   "metadata": {},
   "outputs": [
    {
     "name": "stdout",
     "output_type": "stream",
     "text": [
      "Fitting 5 folds for each of 1 candidates, totalling 5 fits\n"
     ]
    },
    {
     "name": "stderr",
     "output_type": "stream",
     "text": [
      "[Parallel(n_jobs=-1)]: Using backend LokyBackend with 8 concurrent workers.\n",
      "[Parallel(n_jobs=-1)]: Done   2 out of   5 | elapsed:    1.2s remaining:    1.9s\n",
      "[Parallel(n_jobs=-1)]: Done   5 out of   5 | elapsed:    1.4s finished\n"
     ]
    },
    {
     "name": "stdout",
     "output_type": "stream",
     "text": [
      "{'C': 0.001}\n",
      "0.79\n"
     ]
    }
   ],
   "source": [
    "## Computes optimal value of C for Linear SVM. Tests on scaled data.\n",
    "\n",
    "from sklearn.svm import LinearSVC\n",
    "lin = LinearSVC()\n",
    "#gridparams = {'C' : np.arange(0.001,1,0.01), 'penalty': ['l2']}\n",
    "gridparams = {'C' : [0.001]}\n",
    "linclf = GridSearchCV(lin, gridparams, cv = 5, scoring = ['accuracy', 'roc_auc', 'average_precision'], refit = 'roc_auc', n_jobs = -1, verbose = 1)\n",
    "linclf.fit(scalerX, Ytrain)\n",
    "lin_best_score = linclf.best_score_\n",
    "lin_best_value = linclf.best_params_\n",
    "print(lin_best_value)\n",
    "print(np.around(lin_best_score, 2))\n",
    "\n",
    "lin_mean_acc = linclf.cv_results_['mean_test_accuracy'][0]\n",
    "lin_std_acc = linclf.cv_results_['std_test_accuracy'][0]\n",
    "lin_mean_roc = linclf.cv_results_['mean_test_roc_auc'][0]\n",
    "lin_std_roc = linclf.cv_results_['std_test_roc_auc'][0]\n",
    "lin_mean_pr = linclf.cv_results_['mean_test_average_precision'][0]\n",
    "lin_std_pr = linclf.cv_results_['std_test_average_precision'][0]\n"
   ]
  },
  {
   "cell_type": "code",
   "execution_count": 74,
   "metadata": {},
   "outputs": [
    {
     "name": "stdout",
     "output_type": "stream",
     "text": [
      "Fitting 5 folds for each of 1 candidates, totalling 5 fits\n"
     ]
    },
    {
     "name": "stderr",
     "output_type": "stream",
     "text": [
      "[Parallel(n_jobs=-1)]: Using backend LokyBackend with 8 concurrent workers.\n",
      "[Parallel(n_jobs=-1)]: Done   2 out of   5 | elapsed:  1.2min remaining:  1.7min\n",
      "[Parallel(n_jobs=-1)]: Done   5 out of   5 | elapsed:  1.2min finished\n"
     ]
    },
    {
     "name": "stdout",
     "output_type": "stream",
     "text": [
      "{'C': 0.00979, 'class_weight': 'balanced', 'degree': 9, 'gamma': 'scale', 'kernel': 'poly', 'probability': True}\n",
      "0.88\n"
     ]
    }
   ],
   "source": [
    "## Computes optimal SVC values. Runs over massive GridSearch as was used for final pipeline and leaderboard submission.\n",
    "## Runs over normalized data.\n",
    "\n",
    "from sklearn.svm import SVC\n",
    "ker = SVC()\n",
    "#gridparams = {'C':np.arange(0.009,0.1,0.003), 'gamma': ['scale'], 'kernel' : ['poly', 'rbf'], 'degree' : np.arange(5,10,1), 'class_weight': ['balanced'], 'probability' : [True]}\n",
    "gridparams = {'C':[0.00979], \n",
    "              'gamma':['scale'], \n",
    "              'kernel' : ['poly'], \n",
    "              'degree' : [9], \n",
    "              'class_weight': ['balanced'], \n",
    "              'probability' : [True]}\n",
    "\n",
    "kerclf = GridSearchCV(ker, gridparams, cv = 5, scoring = ['accuracy', 'roc_auc', 'average_precision'], refit = 'roc_auc', n_jobs = -1, verbose = 1)\n",
    "kerclf.fit(normX, Ytrain)\n",
    "ker_best_score = kerclf.best_score_\n",
    "ker_best_value = kerclf.best_params_\n",
    "print(kerclf.best_params_)\n",
    "print(np.around(ker_best_score,2))\n",
    "\n",
    "ker_mean_acc = kerclf.cv_results_['mean_test_accuracy'][0]\n",
    "ker_std_acc = kerclf.cv_results_['std_test_accuracy'][0]\n",
    "ker_mean_roc = kerclf.cv_results_['mean_test_roc_auc'][0]\n",
    "ker_std_roc = kerclf.cv_results_['std_test_roc_auc'][0]\n",
    "ker_mean_pr = kerclf.cv_results_['mean_test_average_precision'][0]\n",
    "ker_std_pr = kerclf.cv_results_['std_test_average_precision'][0]"
   ]
  },
  {
   "cell_type": "code",
   "execution_count": 88,
   "metadata": {},
   "outputs": [
    {
     "name": "stdout",
     "output_type": "stream",
     "text": [
      "['knn', 'per', 'bay', 'lreg', 'lin', 'ker']\n",
      "[0.767 0.666 0.664 0.714 0.71  0.803]\n",
      "[0.008 0.026 0.019 0.016 0.012 0.012]\n",
      "[0.849 0.719 0.65  0.791 0.787 0.876]\n",
      "[0.012 0.036 0.019 0.005 0.009 0.005]\n",
      "[0.751 0.59  0.266 0.636 0.633 0.793]\n",
      "[0.017 0.035 0.018 0.003 0.004 0.01 ]\n"
     ]
    }
   ],
   "source": [
    "Titles = [\"knn\",\"per\",\"bay\",\"lreg\",\"lin\",\"ker\"]\n",
    "Mean_acc = np.around([knn_mean_acc, per_mean_acc, gnb_mean_acc, lr_mean_acc, lin_mean_acc, ker_mean_acc],3)\n",
    "Std_acc = np.around([knn_std_acc, per_std_acc, gnb_std_acc, lr_std_acc, lin_std_acc, ker_std_acc],3)\n",
    "Mean_roc = np.around([knn_mean_roc, per_mean_roc, gnb_mean_roc, lr_mean_roc, lin_mean_roc, ker_mean_roc],3)\n",
    "Std_roc = np.around([knn_std_roc, per_std_roc, gnb_std_roc, lr_std_roc, lin_std_roc, ker_std_roc],3)\n",
    "Mean_pr = np.around([knn_mean_pr, per_mean_pr, gnb_mean_pr, lr_mean_pr, lin_mean_pr, ker_mean_pr],3)\n",
    "Std_pr = np.around([knn_std_pr, per_std_pr, gnb_std_pr, lr_std_pr, lin_std_pr, ker_std_pr],3)\n",
    "\n",
    "\n",
    "## Prints results of latest run \n",
    "print(Titles)\n",
    "print(Mean_acc)\n",
    "print(Std_acc)\n",
    "print(Mean_roc)\n",
    "print(Std_roc)\n",
    "print(Mean_pr)\n",
    "print(Std_pr)"
   ]
  },
  {
   "cell_type": "code",
   "execution_count": 18,
   "metadata": {},
   "outputs": [],
   "source": [
    "### QUESTION 4 ###"
   ]
  },
  {
   "cell_type": "code",
   "execution_count": 42,
   "metadata": {},
   "outputs": [
    {
     "data": {
      "image/png": "[encoded data removed]",
      "text/plain": [
       "<Figure size 432x288 with 1 Axes>"
      ]
     },
     "metadata": {
      "needs_background": "light"
     },
     "output_type": "display_data"
    }
   ],
   "source": [
    "## Uses PCA to reduce number of data dimensions to 2\n",
    "## Scatter plot shows that in 2 dimensions, though there is a seperation\n",
    "## the two classes have a large overlap. This is expected when moving from\n",
    "## 784 dimensions down to 2\n",
    "from sklearn.decomposition import PCA\n",
    "pca = PCA(n_components=2)\n",
    "Xpca = pca.fit_transform(Xtrain)\n",
    "Ypca = np.asarray(Ytrain)\n",
    "Fpca = np.c_[Xpca, Ypca]\n",
    "plt.scatter(Fpca[:, 0], Fpca[:, 1], c=Fpca[:,2])\n",
    "plt.show()"
   ]
  },
  {
   "cell_type": "code",
   "execution_count": 27,
   "metadata": {},
   "outputs": [
    {
     "data": {
      "image/png": "[encoded data removed]",
      "text/plain": [
       "<Figure size 432x288 with 1 Axes>"
      ]
     },
     "metadata": {
      "needs_background": "light"
     },
     "output_type": "display_data"
    }
   ],
   "source": [
    "## Plots scree graph of variance at each dimension.\n",
    "## 95% variance occurs at around n = 120\n",
    "\n",
    "pca = PCA()\n",
    "XpcaScree = pca.fit_transform(Xtrain)\n",
    "plt.plot(np.cumsum(pca.explained_variance_ratio_),'o-')\n",
    "plt.show()"
   ]
  },
  {
   "cell_type": "code",
   "execution_count": 92,
   "metadata": {},
   "outputs": [
    {
     "name": "stdout",
     "output_type": "stream",
     "text": [
      "Fitting 5 folds for each of 1 candidates, totalling 5 fits\n"
     ]
    },
    {
     "name": "stderr",
     "output_type": "stream",
     "text": [
      "[Parallel(n_jobs=-1)]: Using backend LokyBackend with 8 concurrent workers.\n",
      "[Parallel(n_jobs=-1)]: Done   2 out of   5 | elapsed:    2.8s remaining:    4.2s\n",
      "[Parallel(n_jobs=-1)]: Done   5 out of   5 | elapsed:    2.8s finished\n"
     ]
    },
    {
     "name": "stdout",
     "output_type": "stream",
     "text": [
      "{'C': 10.01, 'gamma': 'scale', 'kernel': 'rbf'}\n",
      "0.75\n"
     ]
    }
   ],
   "source": [
    "## Performs a (much smaller!) GridSearch over dimension reduced dataset \n",
    "## \n",
    "\n",
    "from sklearn.svm import SVC\n",
    "ker = SVC()\n",
    "#gridparams = {'C': np.logspace(-3,3,7), 'gamma': ['scale'], 'kernel' : ['poly', 'rbf'], 'degree' : np.arange(5,10,1)}\n",
    "gridparams = {'C':[10.01], 'gamma':['scale'], 'kernel' : ['rbf']}\n",
    "ker_pca_clf = GridSearchCV(ker, gridparams, cv = 5, scoring = ['accuracy', 'roc_auc', 'average_precision'], refit = 'roc_auc', n_jobs = -1, verbose = 1)\n",
    "ker_pca_clf.fit(Xpca, Ytrain)\n",
    "ker_pca_best_score = ker_pca_clf.best_score_\n",
    "ker_pca_best_value = ker_pca_clf.best_params_\n",
    "\n",
    "## Reduction of dimensions results in loss of information, and so worse scoring\n",
    "print(ker_pca_clf.best_params_)\n",
    "print(np.around(ker_pca_best_score,2))\n",
    "\n",
    "##Stores all Mean and STD scores for later evaluation\n",
    "ker_pca_mean_acc = ker_pca_clf.cv_results_['mean_test_accuracy'][0]\n",
    "ker_pca_std_acc = ker_pca_clf.cv_results_['std_test_accuracy'][0]\n",
    "ker_pca_mean_roc = ker_pca_clf.cv_results_['mean_test_roc_auc'][0]\n",
    "ker_pca_std_roc = ker_pca_clf.cv_results_['std_test_roc_auc'][0]\n",
    "ker_pca_mean_pr = ker_pca_clf.cv_results_['mean_test_average_precision'][0]\n",
    "ker_pca_std_pr = ker_pca_clf.cv_results_['std_test_average_precision'][0]"
   ]
  },
  {
   "cell_type": "code",
   "execution_count": 94,
   "metadata": {},
   "outputs": [
    {
     "name": "stdout",
     "output_type": "stream",
     "text": [
      "Requirement already satisfied: xgboost in c:\\users\\matty\\anaconda3\\lib\\site-packages (0.90)\n",
      "Requirement already satisfied: numpy in c:\\users\\matty\\anaconda3\\lib\\site-packages (from xgboost) (1.16.5)\n",
      "Requirement already satisfied: scipy in c:\\users\\matty\\anaconda3\\lib\\site-packages (from xgboost) (1.3.1)\n",
      "Fitting 5 folds for each of 1 candidates, totalling 5 fits\n"
     ]
    },
    {
     "name": "stderr",
     "output_type": "stream",
     "text": [
      "[Parallel(n_jobs=-1)]: Using backend LokyBackend with 8 concurrent workers.\n",
      "[Parallel(n_jobs=-1)]: Done   2 out of   5 | elapsed:    0.4s remaining:    0.7s\n",
      "[Parallel(n_jobs=-1)]: Done   5 out of   5 | elapsed:    0.5s finished\n"
     ]
    },
    {
     "name": "stdout",
     "output_type": "stream",
     "text": [
      "{'learning_rate': 0.05, 'max_depth': 3, 'n_estimators': 180}\n",
      "0.76\n"
     ]
    }
   ],
   "source": [
    "## Intalls and fits XGBoost over PCA reduced dataset.\n",
    "## Tested with altering tree depth, number of estimators and learning rate\n",
    "## Combination of PCA and XGBoost results in quick classification\n",
    "\n",
    "!pip install xgboost\n",
    "from xgboost import XGBClassifier\n",
    "xg = XGBClassifier()\n",
    "#gridparams = {'max_depth': range (2, 10, 1), 'n_estimators': range(60, 220, 40),'learning_rate': [0.1, 0.01, 0.05]}\n",
    "gridparams = {'max_depth': [3], 'n_estimators':[180],'learning_rate': [0.05]}\n",
    "xg_pca_clf = GridSearchCV(xg, gridparams, cv = 5, scoring = ['accuracy', 'roc_auc', 'average_precision'], refit = 'roc_auc', n_jobs = -1, verbose = 1)\n",
    "xg_pca_clf.fit(Xpca, Ytrain)\n",
    "xg_pca_best_score = xg_pca_clf.best_score_\n",
    "xg_pca_best_value = xg_pca_clf.best_params_\n",
    "\n",
    "print(xg_pca_clf.best_params_)\n",
    "print(np.around(xg_pca_best_score,2))\n",
    "\n",
    "## Stores all Mean and STD of scores for evaluation\n",
    "xg_pca_mean_acc = xg_pca_clf.cv_results_['mean_test_accuracy'][0]\n",
    "xg_pca_std_acc = xg_pca_clf.cv_results_['std_test_accuracy'][0]\n",
    "xg_pca_mean_roc = xg_pca_clf.cv_results_['mean_test_roc_auc'][0]\n",
    "xg_pca_std_roc = xg_pca_clf.cv_results_['std_test_roc_auc'][0]\n",
    "xg_pca_mean_pr = xg_pca_clf.cv_results_['mean_test_average_precision'][0]\n",
    "xg_pca_std_pr = xg_pca_clf.cv_results_['std_test_average_precision'][0]"
   ]
  },
  {
   "cell_type": "code",
   "execution_count": 22,
   "metadata": {},
   "outputs": [],
   "source": [
    "### QUESTION 5 ###\n",
    "\n",
    "## For preprocessing I tested combinations of Normalizing and Scaling data, and found just Normalizing to be optimal\n",
    "## I used the results from the large gridsearch in Question 3 as parameters for the model."
   ]
  },
  {
   "cell_type": "code",
   "execution_count": 98,
   "metadata": {},
   "outputs": [
    {
     "name": "stdout",
     "output_type": "stream",
     "text": [
      "Fitting 5 folds for each of 1 candidates, totalling 5 fits\n"
     ]
    },
    {
     "name": "stderr",
     "output_type": "stream",
     "text": [
      "[Parallel(n_jobs=-1)]: Using backend LokyBackend with 8 concurrent workers.\n",
      "[Parallel(n_jobs=-1)]: Done   2 out of   5 | elapsed:   59.4s remaining:  1.5min\n",
      "[Parallel(n_jobs=-1)]: Done   5 out of   5 | elapsed:   59.7s finished\n"
     ]
    },
    {
     "name": "stdout",
     "output_type": "stream",
     "text": [
      "0.8757564318159975\n",
      "0.9972230489729892\n",
      "[[0.14285679 0.85714321]\n",
      " [0.4071031  0.5928969 ]\n",
      " [0.14273486 0.85726514]\n",
      " ...\n",
      " [0.82792187 0.17207813]\n",
      " [0.10424523 0.89575477]\n",
      " [0.90825687 0.09174313]]\n"
     ]
    }
   ],
   "source": [
    "## Tests final pipeline on original training set, gives ROC_AUC and probabilities\n",
    "Xtest = np.loadtxt('Xtest.csv')\n",
    "Xtrain = np.loadtxt('Xtrain.csv')\n",
    "Ytrain = np.loadtxt('Ytrain.csv')\n",
    "from sklearn.svm import SVC\n",
    "from sklearn.preprocessing import StandardScaler\n",
    "from sklearn.preprocessing import Normalizer\n",
    "normX = Normalizer().fit_transform(Xtrain)\n",
    "clf = SVC()\n",
    "gridparams = {'C': [0.009799999999999994], \n",
    "              'gamma': ['scale'], \n",
    "              'kernel' : ['poly'], \n",
    "              'degree' : [9], \n",
    "              'class_weight': ['balanced'], \n",
    "              'probability' : [True]}\n",
    "clf = GridSearchCV(ker, gridparams, cv = 5, scoring = ['accuracy', 'roc_auc', 'average_precision'], refit = 'roc_auc', n_jobs = -1, verbose = 1)\n",
    "clf.fit(normX, Ytrain)\n",
    "print(clf.best_score_)\n",
    "\n",
    "probs = clf.predict_proba(normX)\n",
    "print(roc_auc_score(Ytrain, probs[:,1]))\n",
    "print(probs)"
   ]
  },
  {
   "cell_type": "code",
   "execution_count": 99,
   "metadata": {
    "scrolled": false
   },
   "outputs": [
    {
     "name": "stdout",
     "output_type": "stream",
     "text": [
      "SVC(C=0.00979, cache_size=200, class_weight='balanced', coef0=0.0,\n",
      "    decision_function_shape='ovr', degree=9, gamma='scale', kernel='poly',\n",
      "    max_iter=-1, probability=True, random_state=None, shrinking=True, tol=0.001,\n",
      "    verbose=False)\n",
      "[[0.90536939 0.09463061]\n",
      " [0.94210067 0.05789933]\n",
      " [0.33582839 0.66417161]\n",
      " ...\n",
      " [0.32931253 0.67068747]\n",
      " [0.87672802 0.12327198]\n",
      " [0.68802427 0.31197573]]\n"
     ]
    }
   ],
   "source": [
    "## Runs final pipeline to get probabilities for classification of Test data to submit. \n",
    "## Currently gives a score of 0.9032 on the leaderboard.\n",
    "\n",
    "Xtest = np.loadtxt('Xtest.csv')\n",
    "Xtrain = np.loadtxt('Xtrain.csv')\n",
    "Ytrain = np.loadtxt('Ytrain.csv')\n",
    "from sklearn.svm import SVC\n",
    "from sklearn.preprocessing import StandardScaler\n",
    "from sklearn.preprocessing import Normalizer\n",
    "\n",
    "clf = SVC(C = 0.00979, class_weight = 'balanced', degree = 9, gamma = 'scale', kernel = 'poly', probability = True)\n",
    "normX = Normalizer().fit_transform(Xtrain)\n",
    "#scalerX = StandardScaler().fit_transform(normX)\n",
    "clf.fit(normX, Ytrain)\n",
    "\n",
    "normXt = Normalizer().fit_transform(Xtest)\n",
    "#scalerXt = StandardScaler().fit_transform(normXt)\n",
    "probs = clf.predict_proba(normXt)\n",
    "print(probs)\n",
    "np.savetxt(\"probabilities.csv\", probs[:,1])"
   ]
  }
 ],
 "metadata": {
  "kernelspec": {
   "display_name": "Python 3",
   "language": "python",
   "name": "python3"
  }
 },
 "nbformat": 4,
 "nbformat_minor": 2
}
